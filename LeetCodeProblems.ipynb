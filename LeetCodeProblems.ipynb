{
  "nbformat": 4,
  "nbformat_minor": 0,
  "metadata": {
    "colab": {
      "name": "LeetCodeProblems",
      "provenance": [],
      "collapsed_sections": [],
      "authorship_tag": "ABX9TyPG0oaMTyZnTqg5MXAASX6f",
      "include_colab_link": true
    },
    "kernelspec": {
      "name": "python3",
      "display_name": "Python 3"
    },
    "language_info": {
      "name": "python"
    }
  },
  "cells": [
    {
      "cell_type": "markdown",
      "metadata": {
        "id": "view-in-github",
        "colab_type": "text"
      },
      "source": [
        "<a href=\"https://colab.research.google.com/github/Nawshin0022/leetcodeProblems/blob/main/LeetCodeProblems.ipynb\" target=\"_parent\"><img src=\"https://colab.research.google.com/assets/colab-badge.svg\" alt=\"Open In Colab\"/></a>"
      ]
    },
    {
      "cell_type": "markdown",
      "metadata": {
        "id": "43h-xVRCl-EK"
      },
      "source": [
        "Given a signed 32-bit integer x, return x with its digits reversed. If reversing x causes the value to go outside the signed 32-bit integer range [-231, 231 - 1], then return 0.\n",
        "\n",
        "Assume the environment does not allow you to store 64-bit integers (signed or unsigned).\n",
        "\n",
        " \n",
        "\n",
        "Example 1:\n",
        "\n",
        "Input: x = 123\n",
        "Output: 321\n",
        "Example 2:\n",
        "\n",
        "Input: x = -123\n",
        "Output: -321\n",
        "Example 3:\n",
        "\n",
        "Input: x = 120\n",
        "Output: 21\n",
        "Example 4:\n",
        "\n",
        "Input: x = 0\n",
        "Output: 0\n",
        " \n",
        "\n",
        "Constraints:\n",
        "\n",
        "-231 <= x <= 231 - 1"
      ]
    },
    {
      "cell_type": "code",
      "metadata": {
        "id": "YNlvoTy6mG9_"
      },
      "source": [
        "#using Python\n",
        "\n",
        "class Solution(object):\n",
        "    def reverse(self, x):\n",
        "        \"\"\"\n",
        "        :type x: int\n",
        "        :rtype: int\n",
        "        \"\"\"\n",
        "        a = ' '\n",
        "        if (str(x)[0] == '-'):\n",
        "            a = str(x)[0]\n",
        "            a += str(x)[:0:-1]\n",
        "            a = int(a)  #remove all the leading 0's\n",
        "            \n",
        "        elif (str(x)[0] == '0'):\n",
        "            a = str(x)[0]\n",
        "            \n",
        "        else:\n",
        "            a = str(x)[::-1]\n",
        "            a = int(a)\n",
        "                \n",
        "        return (a)"
      ],
      "execution_count": 1,
      "outputs": []
    }
  ]
}